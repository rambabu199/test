{
 "cells": [
  {
   "cell_type": "code",
   "execution_count": 2,
   "id": "f05596cc",
   "metadata": {},
   "outputs": [
    {
     "name": "stdout",
     "output_type": "stream",
     "text": [
      "9\n"
     ]
    }
   ],
   "source": [
    "''' Write a Python program to calculate the length of a string'''\n",
    "a='abcdefghj'\n",
    "print(len(a))"
   ]
  },
  {
   "cell_type": "code",
   "execution_count": 7,
   "id": "d1d57606",
   "metadata": {},
   "outputs": [
    {
     "name": "stdout",
     "output_type": "stream",
     "text": [
      "enter a stringstring\n",
      "stringly\n"
     ]
    }
   ],
   "source": [
    "'''Write a Python program to add 'ing' at the end of a given string (length should be at least 3).\n",
    "If the given string already ends with 'ing' then add 'ly' instead.\n",
    "If the string length of the given string is less than 3, leave it unchanged.'''\n",
    "str1=input('enter a string')\n",
    "if len(str1)>=3:\n",
    "    if str1[-3:]=='ing':\n",
    "        print(str1 +'ly')\n",
    "    else:\n",
    "        print(str1 +'ing')\n",
    "else:\n",
    "    print(str1)"
   ]
  }
 ],
 "metadata": {
  "kernelspec": {
   "display_name": "Python 3 (ipykernel)",
   "language": "python",
   "name": "python3"
  },
  "language_info": {
   "codemirror_mode": {
    "name": "ipython",
    "version": 3
   },
   "file_extension": ".py",
   "mimetype": "text/x-python",
   "name": "python",
   "nbconvert_exporter": "python",
   "pygments_lexer": "ipython3",
   "version": "3.10.0"
  }
 },
 "nbformat": 4,
 "nbformat_minor": 5
}
